{
 "cells": [
  {
   "cell_type": "markdown",
   "metadata": {},
   "source": [
    "Prilmero instalen anaconda: \n",
    "\n",
    "https://anaconda.org/\n",
    "\n",
    "Luego abran una terminal(en unix o win powershell) y escriban: \n",
    "\n",
    "- pip install cobra\n",
    "\n",
    "y si pueden instalen CVXpy\n",
    "\n",
    "- pip install cvxpy\n",
    "\n",
    "\n",
    "Si tienen tiempo y ganas aprendan a usar github: \n",
    "\n",
    "http://rogerdudler.github.io/git-guide/\n",
    "\n",
    "\n",
    "Todos los documentos están en mi git: \n",
    "\n",
    "https://github.com/notblank/Curso-Redes-Met\n",
    "\n",
    "Si tienen preguntas me pueden escribir a: \n",
    "\n",
    "fj.zertuche@uta.edu.ec"
   ]
  }
 ],
 "metadata": {
  "kernelspec": {
   "display_name": "Python 3",
   "language": "python",
   "name": "python3"
  },
  "language_info": {
   "codemirror_mode": {
    "name": "ipython",
    "version": 3
   },
   "file_extension": ".py",
   "mimetype": "text/x-python",
   "name": "python",
   "nbconvert_exporter": "python",
   "pygments_lexer": "ipython3",
   "version": "3.6.2"
  }
 },
 "nbformat": 4,
 "nbformat_minor": 2
}
